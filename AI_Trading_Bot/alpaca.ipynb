{
 "cells": [
  {
   "cell_type": "code",
   "execution_count": 3,
   "metadata": {},
   "outputs": [],
   "source": [
    "import alpaca_trade_api as tradeapi\n",
    "\n",
    "key = \"PKHMW9WJC8DN1RTR54B2\"\n",
    "secret_key = \"TIcmUMLizvuVzwfCXeZcNJEyJeG03VCCSJgpEw31\"\n",
    "BASE_URL = \"https://paper-api.alpaca.markets/v2\"\n",
    "\n",
    "api = tradeapi.REST(key, secret_key, BASE_URL, api_version=\"v2\")"
   ]
  },
  {
   "cell_type": "code",
   "execution_count": 4,
   "metadata": {},
   "outputs": [
    {
     "data": {
      "text/plain": [
       "{'price': 624.79}"
      ]
     },
     "execution_count": 4,
     "metadata": {},
     "output_type": "execute_result"
    }
   ],
   "source": [
    "def get_data(symbol):\n",
    "    try:\n",
    "        barset = api.get_latest_trade(symbol)\n",
    "        return {\"price\":barset.price}\n",
    "    except Exception as e:\n",
    "        return {\"price\":-1}\n",
    "\n",
    "get_data(\"LLY\")"
   ]
  },
  {
   "cell_type": "code",
   "execution_count": null,
   "metadata": {},
   "outputs": [],
   "source": []
  }
 ],
 "metadata": {
  "kernelspec": {
   "display_name": "Python 3",
   "language": "python",
   "name": "python3"
  },
  "language_info": {
   "codemirror_mode": {
    "name": "ipython",
    "version": 3
   },
   "file_extension": ".py",
   "mimetype": "text/x-python",
   "name": "python",
   "nbconvert_exporter": "python",
   "pygments_lexer": "ipython3",
   "version": "3.10.0"
  }
 },
 "nbformat": 4,
 "nbformat_minor": 2
}
